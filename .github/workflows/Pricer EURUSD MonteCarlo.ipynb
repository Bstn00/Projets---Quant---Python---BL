{
 "cells": [
  {
   "cell_type": "code",
   "execution_count": 1,
   "id": "6e3c1200",
   "metadata": {},
   "outputs": [
    {
     "name": "stdout",
     "output_type": "stream",
     "text": [
      "Prix total de l'option d'achat (call option) sur EUR/USD : 5317.74 EUR\n"
     ]
    }
   ],
   "source": [
    "import numpy as np\n",
    "from scipy.stats import norm\n",
    "\n",
    "# Paramètres du modèle\n",
    "S0 = 1.0500   # Prix initial de l'actif sous-jacent (EUR/USD)\n",
    "K = 1.1300    # Prix d'exercice de l'option (EUR/USD)\n",
    "r = 0.053      # Taux d'intérêt sans risque annuel\n",
    "T = 1.0       # Durée de l'option en années\n",
    "sigma = 0.15  # Volatilité annuelle\n",
    "\n",
    "# Nombre de simulations Monte Carlo\n",
    "n_simulations = 10000000\n",
    "\n",
    "# Taille nominale (nombre de contrats)\n",
    "nominal_size = 100000  # Par exemple, 100 000 EUR/USD par contrat\n",
    "\n",
    "# Générer des échantillons aléatoires pour le modèle de Black-Scholes-Merton\n",
    "np.random.seed(0)\n",
    "z = np.random.standard_normal(n_simulations)\n",
    "ST = S0 * np.exp((r - 0.5 * sigma**2) * T + sigma * np.sqrt(T) * z)\n",
    "\n",
    "# Calcul des payoffs de l'option (call option européenne)\n",
    "payoffs = np.maximum(ST - K, 0)\n",
    "\n",
    "# Calcul du prix total de l'option en tenant compte du nominal\n",
    "option_price = np.exp(-r * T) * np.mean(payoffs) * nominal_size\n",
    "\n",
    "print(f\"Prix total de l'option d'achat (call option) sur EUR/USD : {option_price:.2f} EUR\")"
   ]
  },
  {
   "cell_type": "code",
   "execution_count": null,
   "id": "dc47daae",
   "metadata": {},
   "outputs": [],
   "source": []
  }
 ],
 "metadata": {
  "kernelspec": {
   "display_name": "Python 3 (ipykernel)",
   "language": "python",
   "name": "python3"
  },
  "language_info": {
   "codemirror_mode": {
    "name": "ipython",
    "version": 3
   },
   "file_extension": ".py",
   "mimetype": "text/x-python",
   "name": "python",
   "nbconvert_exporter": "python",
   "pygments_lexer": "ipython3",
   "version": "3.11.5"
  }
 },
 "nbformat": 4,
 "nbformat_minor": 5
}
